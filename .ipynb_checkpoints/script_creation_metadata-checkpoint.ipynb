{
 "cells": [
  {
   "cell_type": "code",
   "execution_count": 2,
   "id": "a049dd88-29d3-42ed-b6e0-16607d8606c5",
   "metadata": {},
   "outputs": [],
   "source": [
    "import os\n",
    "import pandas as pd"
   ]
  },
  {
   "cell_type": "code",
   "execution_count": null,
   "id": "f2c8d06e-c977-43a8-a365-76a73700ebf7",
   "metadata": {},
   "outputs": [],
   "source": [
    "#dossier contenant toutes les images par classe\n",
    "base_path = 'images'\n",
    "\n",
    "#Dictionnaire de propriété : dureté et eclat\n",
    "mineral_proprieties= {\n",
    "    'talc':(1, 'Nacré à gras'),\n",
    "    'gypsum': (2, 'Vitreux à nacré'),\n",
    "    'calcite': (3, 'Vitreux à nacré'),\n",
    "    'fluorite': (4, 'Vitreux'),\n",
    "    'apatite':(5, 'Vitreux'),\n",
    "    'othoclase': (6, 'Vitreux'),\n",
    "    'quartz': (7, 'Vitreux'),\n",
    "    'topaz': (8, 'Vitreux'),\n",
    "    'corundum':( 9, 'Adamantin à vitreux'),\n",
    "    'diamond': (10, 'Adamantin')\n",
    "}\n",
    "\n",
    "data = []\n",
    "#Parcours de tous les dossiers\n",
    "for mineral in os.listdir(base_path):\n",
    "    mineral_path = os.path.join(base_path, mineral)\n",
    "\n",
    "    #Si c'est bien un dossier \n",
    "    if os.path.isdir(mineral_path):\n",
    "        #recuperer les proprietés si elles existent\n",
    "        props = mineral_proprieties.get(mineral, (None,None))\n",
    "        durete, eclat = props\n",
    "        \n",
    "        #parcours des images du dossier\n",
    "        for image_name in os.lisdir(mineral_path):\n",
    "            image_path = os.path.join(mineral_path, image_name)\n",
    "            if image_name.lower().endswith(('.jpg', '.png')):\n",
    "                data.append({\n",
    "                    'image_filename': image_path,\n",
    "                    'label_minerai': mineral,\n",
    "                    'durete': durete,\n",
    "                    'eclat': eclat\n",
    "                })\n",
    "#Creation du dataFrame\n",
    "df = pd.DataFrame(data)\n",
    "#sauvegarder en csv\n",
    "df.to_csv('metadat.csv', index= False)\n",
    "print('Csv creé avec sucess !')"
   ]
  }
 ],
 "metadata": {
  "kernelspec": {
   "display_name": "Python 3 (ipykernel)",
   "language": "python",
   "name": "python3"
  },
  "language_info": {
   "codemirror_mode": {
    "name": "ipython",
    "version": 3
   },
   "file_extension": ".py",
   "mimetype": "text/x-python",
   "name": "python",
   "nbconvert_exporter": "python",
   "pygments_lexer": "ipython3",
   "version": "3.12.9"
  }
 },
 "nbformat": 4,
 "nbformat_minor": 5
}
