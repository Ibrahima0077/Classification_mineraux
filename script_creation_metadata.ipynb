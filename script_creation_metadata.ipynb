{
 "cells": [
  {
   "cell_type": "code",
   "execution_count": 2,
   "id": "a049dd88-29d3-42ed-b6e0-16607d8606c5",
   "metadata": {},
   "outputs": [],
   "source": [
    "import os\n",
    "import pandas as pd"
   ]
  },
  {
   "cell_type": "code",
   "execution_count": null,
   "id": "f2c8d06e-c977-43a8-a365-76a73700ebf7",
   "metadata": {},
   "outputs": [],
   "source": [
    "#dossier contenant toutes les images par classe\n",
    "base_path = 'C:/Users/ibrad/Desktop/projet mineraux/images'\n",
    "\n",
    "#Dictionnaire de propriété : dureté et eclat\n",
    "mineral_proprieties= {\n",
    "    'talc':(1, 'Nacré à gras', 2.75),\n",
    "    'gypsum': (2, 'Vitreux à nacré', 2.31),\n",
    "    'calcite': (3, 'Vitreux à nacré', 2.71),\n",
    "    'fluorite': (4, 'Vitreux', 3.18),\n",
    "    'apatite':(5, 'Vitreux', 3.20),\n",
    "    'othoclase': (6, 'Vitreux', 2.56),\n",
    "    'quartz': (7, 'Vitreux', 2.65),\n",
    "    'topaz': (8, 'Vitreux', 3.53),\n",
    "    'corundum':( 9, 'Adamantin à vitreux', 4.02),\n",
    "    'diamond': (10, 'Adamantin', 3.51)\n",
    "}\n",
    "\n",
    "data = []\n",
    "#Parcours de tous les dossiers\n",
    "for mineral in os.listdir(base_path):\n",
    "    mineral_path = os.path.join(base_path, mineral)\n",
    "\n",
    "    #Si c'est bien un dossier \n",
    "    if os.path.isdir(mineral_path):\n",
    "        #recuperer les proprietés si elles existent\n",
    "        props = mineral_proprieties.get(mineral, (None,None, None))\n",
    "        durete, eclat, densite= props\n",
    "        \n",
    "        #parcours des images du dossier\n",
    "        for image_name in os.listdir(mineral_path):\n",
    "            image_path = os.path.join(mineral_path, image_name)\n",
    "            if image_name.lower().endswith(('.jpg', '.png')):\n",
    "                data.append({\n",
    "                    'image_filename': image_path,\n",
    "                    'label_minerai': mineral,\n",
    "                    'durete': durete,\n",
    "                    'eclat': eclat,\n",
    "                    'densite':densite\n",
    "                })\n",
    "#Creation du dataFrame\n",
    "df = pd.DataFrame(data)\n",
    "#sauvegarder en csv\n",
    "df.to_csv('metadata.csv', index= False)\n",
    "print('Csv creé avec sucess !')"
   ]
  },
  {
   "cell_type": "code",
   "execution_count": null,
   "id": "4dc26dae-323d-4584-bf93-3942dd68e8e2",
   "metadata": {},
   "outputs": [],
   "source": [
    "import pandas as pd\n",
    "import numpy as np\n",
    "import matplotlib.pyplot as plt\n",
    "import matplotlib.image as mpimg"
   ]
  }
 ],
 "metadata": {
  "kernelspec": {
   "display_name": "Python 3 (ipykernel)",
   "language": "python",
   "name": "python3"
  },
  "language_info": {
   "codemirror_mode": {
    "name": "ipython",
    "version": 3
   },
   "file_extension": ".py",
   "mimetype": "text/x-python",
   "name": "python",
   "nbconvert_exporter": "python",
   "pygments_lexer": "ipython3",
   "version": "3.12.9"
  }
 },
 "nbformat": 4,
 "nbformat_minor": 5
}
